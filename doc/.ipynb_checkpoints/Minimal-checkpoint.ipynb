{
 "cells": [
  {
   "cell_type": "code",
   "execution_count": 7,
   "id": "1a90a1e1-9297-46ba-b58b-23b4e55314ab",
   "metadata": {},
   "outputs": [
    {
     "name": "stdout",
     "output_type": "stream",
     "text": [
      "Found new 0 oligos (133 existing).\n"
     ]
    }
   ],
   "source": [
    "import sys\n",
    "import pathlib\n",
    "\n",
    "path_root = '/home/hal/Code/Sequin' # where you store the source code\n",
    "sys.path.append(str(path_root))\n",
    "\n",
    "from sequin import sequin\n",
    "cl = sequin.record()\n",
    "\n",
    "# Importing oligos\n",
    "cloning = pathlib.Path('/home/hal/Documents/Recherches/Cloning_local')\n",
    "cl.add_oligos(cloning / 'Oligos_local.csv')"
   ]
  },
  {
   "cell_type": "code",
   "execution_count": 9,
   "id": "80861b20-dcf3-4c8d-82a1-dfabe96e2b06",
   "metadata": {},
   "outputs": [],
   "source": [
    "# Importing a genome\n",
    "cl.add_gb(cloning / 'MG1655_genome.gb', name='MG1655')"
   ]
  },
  {
   "cell_type": "code",
   "execution_count": null,
   "id": "19b340e9-658d-4dde-8f03-d32c0f9a77e9",
   "metadata": {},
   "outputs": [],
   "source": []
  }
 ],
 "metadata": {
  "kernelspec": {
   "display_name": "Python 3",
   "language": "python",
   "name": "python3"
  },
  "language_info": {
   "codemirror_mode": {
    "name": "ipython",
    "version": 3
   },
   "file_extension": ".py",
   "mimetype": "text/x-python",
   "name": "python",
   "nbconvert_exporter": "python",
   "pygments_lexer": "ipython3",
   "version": "3.10.6"
  }
 },
 "nbformat": 4,
 "nbformat_minor": 5
}
