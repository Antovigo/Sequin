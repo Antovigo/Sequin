{
 "cells": [
  {
   "cell_type": "code",
   "execution_count": null,
   "id": "96d07c87-37a5-4788-9cb1-da1932f8d626",
   "metadata": {},
   "outputs": [],
   "source": [
    "import sys\n",
    "import pathlib\n",
    "\n",
    "path_root = '/home/hal/Code/Sequin' # where you store the source code\n",
    "sys.path.append(str(path_root))\n",
    "\n",
    "from sequin.record import *"
   ]
  },
  {
   "cell_type": "code",
   "execution_count": null,
   "id": "c24ee202-f525-4b99-8a60-9a35000d766b",
   "metadata": {},
   "outputs": [],
   "source": [
    "cloning = pathlib.Path('/home/hal/Documents/Recherches/Cloning_local')\n",
    "\n",
    "add_oligos(cloning / 'Oligos_local.csv')\n",
    "add_gb(cloning / 'MG1655_genome.gb', 'MG1655')\n",
    "\n",
    "sequences\n",
    "oligos"
   ]
  },
  {
   "cell_type": "code",
   "execution_count": null,
   "id": "75e1a4c9-aa56-41e8-a27e-e10e7dcae0da",
   "metadata": {},
   "outputs": [],
   "source": []
  }
 ],
 "metadata": {
  "kernelspec": {
   "display_name": "Python 3",
   "language": "python",
   "name": "python3"
  },
  "language_info": {
   "codemirror_mode": {
    "name": "ipython",
    "version": 3
   },
   "file_extension": ".py",
   "mimetype": "text/x-python",
   "name": "python",
   "nbconvert_exporter": "python",
   "pygments_lexer": "ipython3",
   "version": "3.10.6"
  }
 },
 "nbformat": 4,
 "nbformat_minor": 5
}
