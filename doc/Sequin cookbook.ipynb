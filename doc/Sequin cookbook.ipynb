{
 "cells": [
  {
   "cell_type": "markdown",
   "metadata": {},
   "source": [
    "# The Sequin Cookbook\n",
    "![sequin](sequin.jpg)\n",
    "\n",
    "Sequin is meant to make genetic construction design quick and reliable, with a concise and easy-to-remember syntax, and make it easy to track how things were built and what name corresponds to what part. Technically, it is essentially a wrapper for the `pydna` module (Pereira et al., 2015, https://pypi.org/project/pydna/). It also uses `dna_features_viewer` (Zulkower et al., 2020), https://github.com/Edinburgh-Genome-Foundry/DnaFeaturesViewer).\n",
    "\n",
    "## Installation\n",
    "\n",
    "Dependencies: you will need the modules `dna_features_viewer` and `pydna` which are available from Pip.\n",
    "\n",
    "Run `from sequin.record import *` to check that the installation went right. \n",
    "\n",
    "## Loading the module\n",
    "\n",
    "There are two ways to import `sequin`.\n",
    "\n",
    "One way is to import the `record` class then instanciate an object of that class. This object will store all of our sequences.\n",
    "This is recommended if the sequin code is part of a larger project using many other functions and modules, as it prevents conflicts if several modules use the same name for a function.\n",
    "```\n",
    "from sequin import record\n",
    "record.pcr(...)\n",
    "```\n",
    "\n",
    "The other way is to import the `record` module from sequin directly into the current namespace:\n",
    "```\n",
    "from sequin.record import *\n",
    "pcr(...)\n",
    "```\n",
    "This makes the syntax very concise, as you can directly call the functions by their names (e.g. `pcr()`). It is convenient for pure cloning projects when the script is mostly using sequin commands.\n",
    "This is the mode we will use in this cookbook."
   ]
  },
  {
   "cell_type": "code",
   "execution_count": 1,
   "metadata": {
    "tags": []
   },
   "outputs": [],
   "source": [
    "import sys\n",
    "\n",
    "path_root = '/home/antoine/Code/Sequin' # where you store the source code\n",
    "sys.path.append(str(path_root))\n",
    "\n",
    "from sequin.record import *"
   ]
  },
  {
   "cell_type": "markdown",
   "metadata": {
    "tags": []
   },
   "source": [
    "## Basic idea\n",
    "\n",
    "### How are sequences represented?\n",
    "\n",
    "The record class has two class variables that contain DNA sequences: `sequences` and `oligos`.\n",
    "\n",
    "* `sequences` is a dict containing the DNA sequences such as plasmids, genomes and PCR fragments. Each sequence has a name and associated SeqRecord, DSeqRecord (`pydna`'s double stranded version of a SeqRecord) or plain string.\n",
    "\n",
    "* `oligos` is a dict that associates oligo's name to their sequence, stored as a string from 5' to 3'. The names can be anything, but it is traditionally something like \"your initial\" + \"oligo number\", for example V1, V2, V3...\n",
    "\n",
    "Most of Sequin's functions refer to sequences by their name. For exemple, to amplify 'pSAMPLE' with oligos 'V1' and 'V2' by PCR the command will simply be:\n",
    "```\n",
    "pcr('pSAMPLE', 'V1', 'V2')\n",
    "```\n",
    "Here, the function will look for the key \"pSAMPLE\" in `sequence` and for V1 and V2 in `oligos`.\n",
    "\n",
    "However, if one of the keys is not found, the functions also accept direct input of a string or SeqRecord object.\n",
    "\n",
    "### How are positions represented?\n",
    "\n",
    "A position in the DNA is usually represented by a tuple or list of numbers, corresponding to the beginning and the end of the region of interest. For example, to crop a DNA sequence called 'pSAMPLE' between 100 and 200, we will use:\n",
    "```\n",
    "crop('pSAMPLE', [100, 200])\n",
    "```\n",
    "\n",
    "### The `name` argument\n",
    "By default, most functions return a sequence object. However, it's possible to store the result directly in the `sequences` dict by specifying the `name` argument. For example:\n",
    "```\n",
    "pcr('pSAMPLE', 'V1', 'V2', name = 'Amplicon')\n",
    "```\n",
    "This stores the result of the PCR as `sequences['Amplicon']`, so it can readily be used in other functions."
   ]
  },
  {
   "cell_type": "markdown",
   "metadata": {},
   "source": [
    "# Sequin walkthrough\n",
    "Let's go through examples of the different functions.\n",
    "\n",
    "## Input and output\n",
    "Before getting started, let's specify our working folder:"
   ]
  },
  {
   "cell_type": "code",
   "execution_count": 2,
   "metadata": {
    "tags": []
   },
   "outputs": [],
   "source": [
    "import pathlib\n",
    "\n",
    "cloning = pathlib.Path('./Samples')"
   ]
  },
  {
   "cell_type": "markdown",
   "metadata": {},
   "source": [
    "### Importing a collection of oligos\n",
    "Oligos can be imported in bulk from a CSV file, with the names in first column and the sequences in second column, by default. If your oligo record uses different columns, specify that by setting `name_col` and `seq_col` arguments to the appropriate column numbers."
   ]
  },
  {
   "cell_type": "code",
   "execution_count": 3,
   "metadata": {
    "tags": []
   },
   "outputs": [
    {
     "name": "stdout",
     "output_type": "stream",
     "text": [
      "Found new 78 oligos (0 already present).\n"
     ]
    }
   ],
   "source": [
    "add_oligos(cloning / 'Oligos.csv')"
   ]
  },
  {
   "cell_type": "markdown",
   "metadata": {},
   "source": [
    "### Open sequences in .gb format\n",
    "Let's import a few GenBank files to play with. This is done with the `add_gb` functions. It returns a pydna's `dseqrecord` object. If the `name` argument is provided, the new sequence will be stored directly into the `sequences` dict.\n",
    "\n",
    "Sequences are considered to be circular by default, unless the argument `circular` is set to False."
   ]
  },
  {
   "cell_type": "code",
   "execution_count": 4,
   "metadata": {
    "tags": []
   },
   "outputs": [],
   "source": [
    "add_gb(cloning / 'pEFLP.gb', name='pEFLP') # plasmid\n",
    "add_gb(cloning / 'R11.gb', circular=False, name='R11') # synthetic gene\n",
    "add_gb(cloning / 'pORTMAGE-Ec (addgene 138474).gb', name='pORTMAGE')"
   ]
  },
  {
   "cell_type": "markdown",
   "metadata": {},
   "source": [
    "## Features\n",
    "\n",
    "Features are pieces of metadata stored in the genbank files, that give a label and extra information to sections of the sequence. Typically, this would be a label for a gene with its name.\n",
    "\n",
    "### Cleanup junk features\n",
    "Many sequences come with annoying features from other software, like ApE's nameless features.\n",
    "The `clean` method can remove such undesired features. The `junk` argument is a list of feature labels to be removed. Then we will write the cleaned sequences to disk, overwriting the originals.\n",
    "Sequences can then be exported to GenBank files. If no filename is specified, the key in the `sequences` dict will be used. *No extension should be specified* (it will always be gb)."
   ]
  },
  {
   "cell_type": "code",
   "execution_count": 5,
   "metadata": {
    "tags": []
   },
   "outputs": [],
   "source": [
    "clean_features('pEFLP')\n",
    "clean_features('pORTMAGE')"
   ]
  },
  {
   "cell_type": "markdown",
   "metadata": {},
   "source": [
    "### Write sequences to disk\n",
    "Then we will write the cleaned sequences to disk, overwriting the originals.\n",
    "Sequences can then be exported to GenBank files. If no filename is specified, the key in the `sequences` dict will be used. *No extension should be specified* (it will always be gb)."
   ]
  },
  {
   "cell_type": "code",
   "execution_count": 6,
   "metadata": {
    "tags": []
   },
   "outputs": [
    {
     "name": "stdout",
     "output_type": "stream",
     "text": [
      "<class 'pydna.dseqrecord.Dseqrecord'>\n"
     ]
    },
    {
     "data": {
      "text/html": [
       "<font face=monospace><a href='Samples/pEFLP.gb' target='_blank'>Samples/pEFLP.gb</a></font><br>"
      ]
     },
     "metadata": {},
     "output_type": "display_data"
    },
    {
     "name": "stdout",
     "output_type": "stream",
     "text": [
      "<class 'pydna.dseqrecord.Dseqrecord'>\n"
     ]
    },
    {
     "data": {
      "text/html": [
       "<font face=monospace><a href='Samples/pORTMAGE-Ec (addgene 138474).gb' target='_blank'>Samples/pORTMAGE-Ec (addgene 138474).gb</a></font><br>"
      ]
     },
     "metadata": {},
     "output_type": "display_data"
    }
   ],
   "source": [
    "write_gb('pEFLP', folder=cloning)\n",
    "write_gb('pORTMAGE', folder=cloning, filename='pORTMAGE-Ec (addgene 138474)')"
   ]
  },
  {
   "cell_type": "markdown",
   "metadata": {},
   "source": [
    "### Add new features\n",
    "There is a function to add a new feature to a sequence. The arguments are, in order, the sequence name, the location, the strand (+1 or -1), the feature's name and the feature's type (CDS, promoter...)."
   ]
  },
  {
   "cell_type": "code",
   "execution_count": 7,
   "metadata": {
    "tags": []
   },
   "outputs": [],
   "source": [
    "new_feature('pEFLP', (100,200), -1, 'Some new feature', 'terminator')"
   ]
  },
  {
   "cell_type": "markdown",
   "metadata": {},
   "source": [
    "## Simulating constructions\n",
    "### Simulating PCR\n",
    "We can simulate PCRs by giving a template and the name of two oligos. The template can be either a `dseqrecord`, or a `str` in which case the matching sequence will be looked up in the `sequence` dictionary. This will be true in general for most functions using a sequence as input.\n",
    "\n",
    "The product sequence is returned, unless you specify a `name` argument and then the product will be added to the `sequences` dict under that name."
   ]
  },
  {
   "cell_type": "code",
   "execution_count": 8,
   "metadata": {
    "tags": []
   },
   "outputs": [
    {
     "name": "stdout",
     "output_type": "stream",
     "text": [
      "R8\tpORTMAGE\tV1\tV2\t5076/75.51/69.97\n",
      "R9\tpEFLP\tV3\tV4\t2887/66.42/71.58\n"
     ]
    }
   ],
   "source": [
    "# pAV203\tCspRec-MutL(E32K)\tR8+R9\tpSC101ts\tAmp\n",
    "pcr('pORTMAGE', 'V1', 'V2', name='R8')\n",
    "pcr('pEFLP', 'V3', 'V4', name='R9')"
   ]
  },
  {
   "cell_type": "markdown",
   "metadata": {},
   "source": [
    "In this example, we amplify parts of the pORTMAGE and pEFLP plasmids to create the DNA fragments R8 and R9. These fragments have homology arms, so they can be assembled into a new plasmid by Gibson assembly. Let's simulate this.\n",
    "\n",
    "### Simulate homologous assembly\n",
    "To simulate Gibson assembly, use the `assemble` method. As arguments, provide a list of fragment names (or directly provide sequences) and optionally give a name to the product. Here we will tie together the fragments R8 and R9 that we just created."
   ]
  },
  {
   "cell_type": "code",
   "execution_count": 9,
   "metadata": {
    "tags": []
   },
   "outputs": [
    {
     "name": "stdout",
     "output_type": "stream",
     "text": [
      "aattacgatttaaatttgtgcactgatagatacaagagc\n",
      "gggttccgcgcacatttcccgcgcgcccagctgtctagg\n",
      "//- 5076 bp - [40 bp] -2887 bp - [40 bp] -//\n",
      "pAV203: 7883 bp circular product.\n",
      "Removing junk feature \"AmpR promoter\".\n",
      "<class 'pydna.contig.Contig'>\n"
     ]
    },
    {
     "data": {
      "text/html": [
       "<font face=monospace><a href='Samples/pAV203.gb' target='_blank'>Samples/pAV203.gb</a></font><br>"
      ]
     },
     "metadata": {},
     "output_type": "display_data"
    }
   ],
   "source": [
    "assemble(['R8','R9'], name='pAV203', verbose=False)\n",
    "clean_features('pAV203', junk=['AmpR promoter','Amp-R'])\n",
    "write_gb('pAV203', folder=cloning)"
   ]
  },
  {
   "cell_type": "markdown",
   "metadata": {},
   "source": [
    "### Simulate enzymatic digestion\n",
    "The `digest` method simulates digestion by restriction enzymes. Specify the enzymes to use as a list. The `fragment` parameter is which fragment you want to keep (as indicated by \"(extracted)\"). Digested fragments can then be used for assemblies etc. as usual."
   ]
  },
  {
   "cell_type": "code",
   "execution_count": 10,
   "metadata": {
    "tags": []
   },
   "outputs": [
    {
     "name": "stdout",
     "output_type": "stream",
     "text": [
      "Digestion yields 2 fragments:\n",
      "0: 1143 bp \n",
      "1: 5453 bp (extracted)\n"
     ]
    }
   ],
   "source": [
    "add_gb(cloning / 'pIT5-KL (addgene 45984).gb', name='pIT5KL')\n",
    "digest('pIT5KL', ['EcoRI', 'PstI'], 1, name='R13')"
   ]
  },
  {
   "cell_type": "markdown",
   "metadata": {},
   "source": [
    "## Visualizing sequences\n",
    "\n",
    "### Display a sequence's map\n",
    "The `show_map` function can display the map of a circular or linear DNA sequence. \n",
    "The visuals are generated by the `DNAfeatureviewer` module from Zulkower et al. 2020.\n",
    "\n",
    "Let's look at the pAV203 plasmid we just generated.\n",
    "The `zoom` argument can be used to show only a fraction of the map. Change the plot width with the `width` argument. The map will be circular or linear depending on the sequence, but you can override it with the `topology` argument (set to \"circular\" or \"linear\").\n",
    "\n"
   ]
  },
  {
   "cell_type": "code",
   "execution_count": 11,
   "metadata": {
    "tags": []
   },
   "outputs": [
    {
     "data": {
      "image/png": "[encoded data removed]",
      "text/plain": [
       "<Figure size 400x650 with 1 Axes>"
      ]
     },
     "metadata": {},
     "output_type": "display_data"
    }
   ],
   "source": [
    "show_map('pAV203', width = 4)"
   ]
  },
  {
   "cell_type": "markdown",
   "metadata": {},
   "source": [
    "### Overlay the sequence to a part of the map\n",
    "To show the sequence in a particular spot, use the `zoom` method. The second argument is a couple of coordinates you want to zoom in.\n",
    "\n",
    "Optionally, the highlight option allows to highlight a region."
   ]
  },
  {
   "cell_type": "code",
   "execution_count": 12,
   "metadata": {
    "tags": []
   },
   "outputs": [
    {
     "data": {
      "image/png": "[encoded data removed]",
      "text/plain": [
       "<Figure size 2000x220 with 1 Axes>"
      ]
     },
     "metadata": {},
     "output_type": "display_data"
    }
   ],
   "source": [
    "show_sequence('pAV203', (40,80), highlight = (55,65))"
   ]
  },
  {
   "cell_type": "markdown",
   "metadata": {},
   "source": [
    "### Find existing annealing oligos\n",
    "To find which primers anneal to a sequence and where, use the `find_primers` method.\n",
    "Primers that prime from left to right on the map are shown in green, primers that prime from right to left are shown in red."
   ]
  },
  {
   "cell_type": "code",
   "execution_count": 13,
   "metadata": {
    "tags": []
   },
   "outputs": [
    {
     "data": {
      "text/plain": [
       "Template pAV203 7883 nt circular:\n",
       "V1 anneals forward (--->) at 40\n",
       "V22 anneals forward (--->) at 2018\n",
       "V24 anneals forward (--->) at 3019\n",
       "V26 anneals forward (--->) at 4016\n",
       "V3 anneals forward (--->) at 5086\n",
       "V11 anneals forward (--->) at 5088\n",
       "V12 anneals reverse (<---) at 6303\n",
       "V27 anneals reverse (<---) at 5082\n",
       "V2 anneals reverse (<---) at 5022\n",
       "V25 anneals reverse (<---) at 4082\n",
       "V23 anneals reverse (<---) at 3079\n",
       "V4 anneals reverse (<---) at 0"
      ]
     },
     "execution_count": 13,
     "metadata": {},
     "output_type": "execute_result"
    },
    {
     "data": {
      "image/png": "[encoded data removed]",
      "text/plain": [
       "<Figure size 2000x460 with 1 Axes>"
      ]
     },
     "metadata": {},
     "output_type": "display_data"
    }
   ],
   "source": [
    "find_primers('pAV203') "
   ]
  },
  {
   "cell_type": "markdown",
   "metadata": {
    "tags": []
   },
   "source": [
    "The sequence can be zoomed on by giving a couple of coordinates as the optional `zoom` argument.\n",
    "\n",
    "The script will look in the `oligos` dict for matching primers, but you can override this with the `oligos_list` argument. For example, we can use the `subset` convenience function to pick the oligos we are interested in."
   ]
  },
  {
   "cell_type": "code",
   "execution_count": 14,
   "metadata": {
    "tags": []
   },
   "outputs": [
    {
     "data": {
      "text/plain": [
       "Template pAV203 7883 nt circular:\n",
       "V26 anneals forward (--->) at 4016\n",
       "V2 anneals reverse (<---) at 5022"
      ]
     },
     "execution_count": 14,
     "metadata": {},
     "output_type": "execute_result"
    },
    {
     "data": {
      "image/png": "[encoded data removed]",
      "text/plain": [
       "<Figure size 2000x220 with 1 Axes>"
      ]
     },
     "metadata": {},
     "output_type": "display_data"
    }
   ],
   "source": [
    "find_primers('pAV203', zoom=(3800,5200), oligos_list = subset(oligos, ['V2', 'V26']))"
   ]
  },
  {
   "cell_type": "markdown",
   "metadata": {},
   "source": [
    "## Search tools\n",
    "\n",
    "Instead of entering DNA coordinates manually, it's usually possible to generates the coordinates using search tools.\n",
    "\n",
    "### Find a feature\n",
    "\n",
    "To find the coordinates of a particular feature you are interested in, use the `find_features` method. You can also provide a list of features, then the scripts looks for a region that encompasses all the mentioned features.\n",
    "The `margins` arguments allows you to also include some extra nucleotides on each side of the feature.\n",
    "The method returns a couple of coordinates.\n",
    "\n",
    "For example, let's look for the coordinates of the FLP gene, adding 30 bp upstream and 5 bp downstream. Then, we plot this particular region."
   ]
  },
  {
   "cell_type": "code",
   "execution_count": 15,
   "metadata": {
    "tags": []
   },
   "outputs": [
    {
     "name": "stdout",
     "output_type": "stream",
     "text": [
      "FLP: [87:1359](+)\n"
     ]
    },
    {
     "data": {
      "text/plain": [
       "(57, ExactPosition(1364))"
      ]
     },
     "execution_count": 15,
     "metadata": {},
     "output_type": "execute_result"
    },
    {
     "data": {
      "image/png": "[encoded data removed]",
      "text/plain": [
       "<Figure size 2000x260 with 1 Axes>"
      ]
     },
     "metadata": {},
     "output_type": "display_data"
    }
   ],
   "source": [
    "flp_coords = find_features('pEFLP', ['FLP'], margins=(30,5), plot = True)\n",
    "flp_coords\n",
    "#show_map('pEFLP', zoom = flp_coords)"
   ]
  },
  {
   "cell_type": "markdown",
   "metadata": {},
   "source": [
    "Say you want to find the 5' UTR of a gene. You can do something like this:"
   ]
  },
  {
   "cell_type": "code",
   "execution_count": 16,
   "metadata": {
    "tags": []
   },
   "outputs": [
    {
     "name": "stdout",
     "output_type": "stream",
     "text": [
      "FLP: [87:1359](+)\n"
     ]
    },
    {
     "data": {
      "text/plain": [
       "87"
      ]
     },
     "execution_count": 16,
     "metadata": {},
     "output_type": "execute_result"
    }
   ],
   "source": [
    "flp_init = find_features('pEFLP', ['FLP'], margins=(0,0), plot=False)[0] # only keep the first coordinate, i.e. the start of the gene\n",
    "flp_promoter = (flp_init-80, flp_init) # 80 bp before the gene\n",
    "flp_init\n",
    "\n",
    "#show_sequence('pEFLP', flp_promoter, width=10)"
   ]
  },
  {
   "cell_type": "markdown",
   "metadata": {},
   "source": [
    "### Find a DNA motif\n",
    "To search for a particular DNA motif, use the `find_motif` method. Degenerate bases (like Ns) are ok. It returns a list of 3-element lists, corresponding to the places where the motif was found.\n",
    "\n",
    "Each 3-element list contains the starting point, the ending point and the strand. It's possible to search on only one strand using the `strand` argument."
   ]
  },
  {
   "cell_type": "code",
   "execution_count": 17,
   "metadata": {
    "tags": []
   },
   "outputs": [
    {
     "name": "stdout",
     "output_type": "stream",
     "text": [
      "[[550, 557, 1], [2522, 2529, 1], [3793, 3800, -1]]\n",
      "[[3793, 3800, -1]]\n"
     ]
    }
   ],
   "source": [
    "sites = find_motif('pEFLP', 'NGGNGAT') # Both strands\n",
    "sites_bottom = find_motif('pEFLP', 'NGGNGAT', strand = -1) # Bottom strand only\n",
    "\n",
    "print(sites)\n",
    "print(sites_bottom)"
   ]
  },
  {
   "cell_type": "markdown",
   "metadata": {},
   "source": [
    "### Find ORFs\n",
    "You can also detect all Open Reading Frames (ORF) on a strand of DNA.\n",
    "The second argument specifies which strand to search on (+1 or -1). \n",
    "The `min_length` argument is optional and is used to exclude the many very short ORFs."
   ]
  },
  {
   "cell_type": "code",
   "execution_count": 18,
   "metadata": {
    "tags": []
   },
   "outputs": [
    {
     "data": {
      "text/plain": [
       "[(87, 1359)]"
      ]
     },
     "execution_count": 18,
     "metadata": {},
     "output_type": "execute_result"
    }
   ],
   "source": [
    "find_orfs('pEFLP', 1, min_length = 500)"
   ]
  },
  {
   "cell_type": "markdown",
   "metadata": {},
   "source": [
    "The `find_orfs` function returns a list of coordinates. If there are multiple nested ORFs, set the `greedy` argument to True to only keep the largest.\n",
    "\n",
    "### Design PCR primers\n",
    "To design primers to amplify a region within a sequence, use the `make_primers` method. The second parameter is a couple of coordinates that delimits the region to be amplified. The target melting point can be tuned with `tm` and the minimum primer length with `limit`. \n",
    "\n",
    "For example, let's make primers that amplify the FLP coding sequence with 10 bp margins."
   ]
  },
  {
   "cell_type": "code",
   "execution_count": 26,
   "metadata": {
    "tags": []
   },
   "outputs": [
    {
     "name": "stdout",
     "output_type": "stream",
     "text": [
      "FLP: [87:1359](+)\n",
      "ATGCCACAATTTGATATATTATGTAAA TTATATGCGTCTATTTATGTAGGA\n"
     ]
    }
   ],
   "source": [
    "flp_cds = find_features('pEFLP', ['FLP'], plot = False)\n",
    "\n",
    "flp_f,flp_r = make_primers('pEFLP', flp_cds, plot = False)\n",
    "\n",
    "print(flp_f, flp_r)"
   ]
  },
  {
   "cell_type": "markdown",
   "metadata": {},
   "source": [
    "If `make_primers` is called with the `names` argument containing the names of the two primers, it will print them in a tab-separated format. This can be copied and pasted to your records or to a DNA ordering service. It also returns a dict containing the two oligos (so you can add it to the oligo dict with `update`)."
   ]
  },
  {
   "cell_type": "code",
   "execution_count": 29,
   "metadata": {
    "tags": []
   },
   "outputs": [
    {
     "name": "stdout",
     "output_type": "stream",
     "text": [
      "V21\tAGTGTCCGGTTTGATAGG\n",
      "V22\tTCACTAGTTCTTTGACTACCG\n",
      "V23\tATACACATGCCAATTCAGG\n",
      "V24\tTCTGCAAAGTGATTGCGC\n",
      "V25\tAGCAACTGGAAACGCCGC\n",
      "V26\tTACGGAAGGATCTGAGGTTCTTATGG\n"
     ]
    },
    {
     "data": {
      "text/plain": [
       "{'V25': Seq('AGCAACTGGAAACGCCGC'), 'V26': Seq('TACGGAAGGATCTGAGGTTCTTATGG')}"
      ]
     },
     "execution_count": 29,
     "metadata": {},
     "output_type": "execute_result"
    }
   ],
   "source": [
    "# Primers to sequence the insert\n",
    "make_primers('pAV203', (2000,3100), names = ('V21','V22'), plot = False)\n",
    "make_primers('pAV203', (3000,4100), names = ('V23','V24'), plot = False)\n",
    "make_primers('pAV203', (4000,5100), names = ('V25','V26'), plot = False)"
   ]
  },
  {
   "cell_type": "markdown",
   "metadata": {},
   "source": [
    "### Design oligos for homologous assembly\n",
    "Now we are going to design oligos so that our fragments can be assembled together by Gibson assembly.\n",
    "\n",
    "First, we make short primers to amplify our fragments.\n",
    "Then we use the `make_junction` method to add homology tails in 3' of the primers.\n",
    "\n",
    "Say you want to make junction between PCR fragments A and B, in that order. \n",
    "As arguments, put 1) the reverse primer used to amplify A and 2) the forward primer used to amplify B.\n",
    "\n",
    "This returns two oligos, that correspond to the two oligos provided as arguments with added homology tails. The length of the homology region can be changed with the `homology` argument."
   ]
  },
  {
   "cell_type": "code",
   "execution_count": 34,
   "metadata": {
    "tags": []
   },
   "outputs": [
    {
     "name": "stdout",
     "output_type": "stream",
     "text": [
      "Junction:\n",
      "5' tatgccgagcgcatgaagCTATTTCCCTTATCTGCTTCTT 3'\n",
      "3' ATACGGCTCGCGTACTTCgataaagggaatagacgaagaa 5'\n",
      "CTTCATGCGCTCGGCATA\n",
      "aagaagcagataagggaaatagCTTCATGCGCTCGGCATA\n"
     ]
    }
   ],
   "source": [
    "flp_f, flp_r = make_primers('pEFLP', (100,500), plot=False)\n",
    "pit5_f, pit5_r = make_primers('pORTMAGE', (2000,2500), plot=False)\n",
    "\n",
    "flp_r_j, pit5_f_j = make_junction(flp_r, pit5_f) # Add an homology tail to pit5_f, corresponding to the reverse primer of fpl\n",
    "\n",
    "print(pit5_f)\n",
    "print(pit5_f_j)"
   ]
  },
  {
   "cell_type": "markdown",
   "metadata": {},
   "source": [
    "It's also possible to introduce a linker between the two fragments to be assembled. Just specify the sequence of the \"top\" strand of the linker."
   ]
  },
  {
   "cell_type": "code",
   "execution_count": 35,
   "metadata": {
    "tags": []
   },
   "outputs": [
    {
     "name": "stdout",
     "output_type": "stream",
     "text": [
      "Junction:\n",
      "5'       gagcgcatgaagaaagggccctttCTATTTCCCTTATCTGCTTCTT 3'\n",
      "3' ATACGGCTCGCGTACTTCtttcccgggaaagataaagggaatagac       5'\n"
     ]
    },
    {
     "data": {
      "text/plain": [
       "(Seq('gagcgcatgaagaaagggccctttCTATTTCCCTTATCTGCTTCTT'),\n",
       " Seq('cagataagggaaatagaaagggccctttCTTCATGCGCTCGGCATA'))"
      ]
     },
     "execution_count": 35,
     "metadata": {},
     "output_type": "execute_result"
    }
   ],
   "source": [
    "make_junction(flp_r, pit5_f, linker='AAAGGGCCCTTT')"
   ]
  },
  {
   "cell_type": "markdown",
   "metadata": {},
   "source": [
    "### Assign new names to new oligos\n",
    "\n",
    "This is assuming you are using a [initial][number] naming convention for your oligos.\n",
    "\n",
    "To find the latest (not used yet) oligo name, use the `latest` method with the prefix of your choice.\n",
    "\n",
    "The `new_oligos` method takes a list/tuple of oligos and a prefix as input, and adds the oligos to the main oligo dict with adequate numbering. If a sequence is already in the dict, it will be skipped.\n",
    "\n",
    "Then, the new oligos are printed in a copy-pastable format."
   ]
  },
  {
   "cell_type": "code",
   "execution_count": 36,
   "metadata": {
    "tags": []
   },
   "outputs": [
    {
     "name": "stdout",
     "output_type": "stream",
     "text": [
      "\n",
      "Name\tSequence\n",
      "V79\tAGCAACTGGAAACGCCGC\n",
      "V80\tTACGGAAGGATCTGAGGTTCTTATGG\n"
     ]
    },
    {
     "data": {
      "text/plain": [
       "{'V79': Seq('AGCAACTGGAAACGCCGC'), 'V80': Seq('TACGGAAGGATCTGAGGTTCTTATGG')}"
      ]
     },
     "execution_count": 36,
     "metadata": {},
     "output_type": "execute_result"
    }
   ],
   "source": [
    "new_oligos(make_primers('pAV203', (4000,5100), plot = False), prefix = 'V')"
   ]
  },
  {
   "cell_type": "markdown",
   "metadata": {},
   "source": [
    "Note that **Sequin will never modify your oligo record file**. To add these new oligos to your records, you can copy and paste the lines above at the end of your oligo table (here `Samples/Oligos.csv`). Then, next time you use `add_oligos`, the newest oligos will be included.\n",
    "\n",
    "This is to avoid possible confusion due to overwriting."
   ]
  },
  {
   "cell_type": "markdown",
   "metadata": {},
   "source": [
    "# Random examples"
   ]
  },
  {
   "cell_type": "code",
   "execution_count": 39,
   "metadata": {
    "tags": []
   },
   "outputs": [
    {
     "name": "stdout",
     "output_type": "stream",
     "text": [
      "5\n",
      "4.850000000000001\n",
      "1.8900000000000006\n",
      "0.8200000000000003\n",
      "0.04999999999999716\n",
      "0.030000000000001137\n",
      "GCAGTGAATGGGGGTAAATG 63.03 0.030000000000001137\n"
     ]
    }
   ],
   "source": [
    "# Find an oligo with a tm of 63°C within a region\n",
    "\n",
    "target = [2700, 3000]\n",
    "\n",
    "score = 5\n",
    "best_oligo = ''\n",
    "\n",
    "for i in range(target[0],target[1]):\n",
    "    oligo = sequences['pEFLP'][i:i+20].seq.watson\n",
    "    new_score = abs(tm(oligo) - 63)\n",
    "    if new_score <= score:\n",
    "        print(score)\n",
    "        score = new_score\n",
    "        best_oligo = oligo\n",
    "        \n",
    "print(best_oligo, tm(best_oligo), score)"
   ]
  },
  {
   "cell_type": "code",
   "execution_count": 50,
   "metadata": {
    "tags": []
   },
   "outputs": [
    {
     "name": "stdout",
     "output_type": "stream",
     "text": [
      "Junction:\n",
      "5'           gcatgaaggtgtggtgtatcttaccggcCTATTTCCCTTATCTGCTTCTT 3'\n",
      "3' ATACGGCTCGCGTACTTCcacaccacatagaatggccggataaagggaat           5'\n",
      "Junction:\n",
      "5'           gcatgaagattcgtgaattgtcgtggttCTATTTCCCTTATCTGCTTCTT 3'\n",
      "3' ATACGGCTCGCGTACTTCtaagcacttaacagcaccaagataaagggaat           5'\n",
      "Junction:\n",
      "5'           gcatgaagcgtggcacacgcggtccctcCTATTTCCCTTATCTGCTTCTT 3'\n",
      "3' ATACGGCTCGCGTACTTCgcaccgtgtgcgccagggaggataaagggaat           5'\n",
      "Junction:\n",
      "5'           gcatgaagtatgtcttacgggtatggtCTATTTCCCTTATCTGCTTCTT 3'\n",
      "3' ATACGGCTCGCGTACTTCatacagaatgcccataccagataaagggaat           5'\n",
      "Junction:\n",
      "5'           gcatgaagccaaggtacgccggctttgtCTATTTCCCTTATCTGCTTCTT 3'\n",
      "3' ATACGGCTCGCGTACTTCggttccatgcggccgaaacagataaagggaat           5'\n",
      "\n",
      "Name\tSequence\n",
      "V81\ttaagggaaataggccggtaagatacaccacacCTTCATGCGCTCGGCATA\n",
      "V82\tgcatgaaggtgtggtgtatcttaccggcCTATTTCCCTTATCTGCTTCTT\n",
      "V83\ttaagggaaatagaaccacgacaattcacgaatCTTCATGCGCTCGGCATA\n",
      "V84\tgcatgaagattcgtgaattgtcgtggttCTATTTCCCTTATCTGCTTCTT\n",
      "V85\ttaagggaaataggagggaccgcgtgtgccacgCTTCATGCGCTCGGCATA\n",
      "V86\tgcatgaagcgtggcacacgcggtccctcCTATTTCCCTTATCTGCTTCTT\n",
      "V87\ttaagggaaatagaccatacccgtaagacataCTTCATGCGCTCGGCATA\n",
      "V88\tgcatgaagtatgtcttacgggtatggtCTATTTCCCTTATCTGCTTCTT\n",
      "V89\ttaagggaaatagacaaagccggcgtaccttggCTTCATGCGCTCGGCATA\n",
      "V90\tgcatgaagccaaggtacgccggctttgtCTATTTCCCTTATCTGCTTCTT\n"
     ]
    },
    {
     "data": {
      "text/plain": [
       "{'V81': Seq('taagggaaataggccggtaagatacaccacacCTTCATGCGCTCGGCATA'),\n",
       " 'V82': Seq('gcatgaaggtgtggtgtatcttaccggcCTATTTCCCTTATCTGCTTCTT'),\n",
       " 'V83': Seq('taagggaaatagaaccacgacaattcacgaatCTTCATGCGCTCGGCATA'),\n",
       " 'V84': Seq('gcatgaagattcgtgaattgtcgtggttCTATTTCCCTTATCTGCTTCTT'),\n",
       " 'V85': Seq('taagggaaataggagggaccgcgtgtgccacgCTTCATGCGCTCGGCATA'),\n",
       " 'V86': Seq('gcatgaagcgtggcacacgcggtccctcCTATTTCCCTTATCTGCTTCTT'),\n",
       " 'V87': Seq('taagggaaatagaccatacccgtaagacataCTTCATGCGCTCGGCATA'),\n",
       " 'V88': Seq('gcatgaagtatgtcttacgggtatggtCTATTTCCCTTATCTGCTTCTT'),\n",
       " 'V89': Seq('taagggaaatagacaaagccggcgtaccttggCTTCATGCGCTCGGCATA'),\n",
       " 'V90': Seq('gcatgaagccaaggtacgccggctttgtCTATTTCCCTTATCTGCTTCTT')}"
      ]
     },
     "execution_count": 50,
     "metadata": {},
     "output_type": "execute_result"
    }
   ],
   "source": [
    "# Generate several versions of Gibson assembly junctions, each with a different linker\n",
    "\n",
    "linkers = ['GTGTGGTGTATCTTACCGGC', 'ATTCGTGAATTGTCGTGGTT', 'CGTGGCACACGCGGTCCCTC', 'TATGTCTTACGGGTATGGT', 'CCAAGGTACGCCGGCTTTGT']\n",
    "\n",
    "new = []\n",
    "\n",
    "for linker in linkers:\n",
    "    jr, jf = make_junction(flp_r, pit5_f, linker = linker)\n",
    "    new.append(jf)\n",
    "    new.append(jr)\n",
    "\n",
    "new_oligos(new, prefix = 'V')"
   ]
  }
 ],
 "metadata": {
  "kernelspec": {
   "display_name": "Python 3 (ipykernel)",
   "language": "python",
   "name": "python3"
  },
  "language_info": {
   "codemirror_mode": {
    "name": "ipython",
    "version": 3
   },
   "file_extension": ".py",
   "mimetype": "text/x-python",
   "name": "python",
   "nbconvert_exporter": "python",
   "pygments_lexer": "ipython3",
   "version": "3.10.12"
  }
 },
 "nbformat": 4,
 "nbformat_minor": 4
}
